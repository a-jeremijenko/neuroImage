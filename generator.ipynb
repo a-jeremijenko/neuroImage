{
 "cells": [
  {
   "cell_type": "code",
   "execution_count": null,
   "id": "b7ef9aaa-e1da-4486-9254-79ac016f1565",
   "metadata": {},
   "outputs": [],
   "source": [
    "import torch\n",
    "\n",
    "if torch.cuda.is_available():\n",
    "    print(torch.cuda.get_device_name())"
   ]
  },
  {
   "cell_type": "code",
   "execution_count": null,
   "id": "ce1f88e1-2999-4e84-94f2-571b43a35e8d",
   "metadata": {},
   "outputs": [],
   "source": [
    "!mkdir input\n",
    "!mkdir outputs"
   ]
  },
  {
   "cell_type": "code",
   "execution_count": null,
   "id": "d8c1a89d-3288-420a-a73a-6b6dfafc70c7",
   "metadata": {},
   "outputs": [],
   "source": []
  }
 ],
 "metadata": {
  "kernelspec": {
   "display_name": "Python 3",
   "language": "python",
   "name": "python3"
  },
  "language_info": {
   "codemirror_mode": {
    "name": "ipython",
    "version": 3
   },
   "file_extension": ".py",
   "mimetype": "text/x-python",
   "name": "python",
   "nbconvert_exporter": "python",
   "pygments_lexer": "ipython3",
   "version": "3.7.9"
  }
 },
 "nbformat": 4,
 "nbformat_minor": 5
}
